{
 "cells": [
  {
   "cell_type": "code",
   "execution_count": 1,
   "id": "45216861",
   "metadata": {},
   "outputs": [],
   "source": [
    "\n",
    "import sys\n",
    "from pathlib import Path\n",
    "\n",
    "project_root = Path.cwd()\n",
    "while not (project_root / 'config.py').exists() and project_root != project_root.parent:\n",
    "    project_root = project_root.parent\n",
    "\n",
    "SRC_DIR = project_root / 'src'\n",
    "sys.path.insert(0, str(project_root))\n",
    "sys.path.insert(0, str(SRC_DIR))\n"
   ]
  },
  {
   "cell_type": "code",
   "execution_count": 2,
   "id": "c2dca662",
   "metadata": {},
   "outputs": [],
   "source": [
    "\n",
    "import os\n",
    "import geopandas as gpd\n",
    "import matplotlib.pyplot as plt\n",
    "import ipywidgets as widgets\n",
    "from IPython.display import display\n",
    "from matplotlib.backends.backend_pdf import PdfPages\n",
    "from datetime import datetime\n",
    "\n",
    "from config import SHAPEFILES_DIR, EXPORT_FOLDER\n",
    "from gpkg_service import list_gpkg_files, list_gpkg_layers, load_gpkg_layer\n"
   ]
  },
  {
   "cell_type": "code",
   "execution_count": 3,
   "id": "c2ff0419",
   "metadata": {},
   "outputs": [],
   "source": [
    "\n",
    "plot_output = widgets.Output(layout={'justify_content': 'center'})\n",
    "preview_output = widgets.Output()\n",
    "export_output = widgets.Output()\n",
    "\n",
    "gpkg_files = list_gpkg_files(SHAPEFILES_DIR)\n",
    "gpkg_selector = widgets.Dropdown(\n",
    "    options=[(f.name, f) for f in gpkg_files],\n",
    "    description='GPKG:',\n",
    "    layout=widgets.Layout(width='320px')\n",
    ")\n",
    "\n",
    "layer_selector = widgets.Dropdown(\n",
    "    options=[],\n",
    "    description='Layer:',\n",
    "    layout=widgets.Layout(width='320px')\n",
    ")\n",
    "\n",
    "sampling_dropdown = widgets.Dropdown(\n",
    "    options=[('10%', 0.10), ('25%', 0.25), ('50%', 0.50), ('100%', 1.0)],\n",
    "    value=1.0,\n",
    "    description='Sample:',\n",
    "    layout=widgets.Layout(width='180px')\n",
    ")\n",
    "\n",
    "export_format_dropdown = widgets.Dropdown(\n",
    "    options=['.gpkg', '.geojson', '.pdf'],\n",
    "    value='.gpkg',\n",
    "    description='Export:',\n",
    "    layout=widgets.Layout(width='180px')\n",
    ")\n",
    "\n",
    "export_button = widgets.Button(description='Export sample', layout=widgets.Layout(width='140px'))\n",
    "title_html = widgets.HTML(value='', layout=widgets.Layout(justify_content='center'))\n"
   ]
  },
  {
   "cell_type": "code",
   "execution_count": 4,
   "id": "aba11b5e",
   "metadata": {},
   "outputs": [],
   "source": [
    "\n",
    "def update_layers(change):\n",
    "    if gpkg_selector.value:\n",
    "        layers = list_gpkg_layers(gpkg_selector.value)\n",
    "        layer_selector.options = layers\n",
    "        if 'buurten' in layers:\n",
    "            layer_selector.value = 'buurten'\n",
    "        elif layers:\n",
    "            layer_selector.value = layers[0]\n"
   ]
  },
  {
   "cell_type": "code",
   "execution_count": 5,
   "id": "4930b482",
   "metadata": {},
   "outputs": [],
   "source": [
    "\n",
    "def update_plot(*args):\n",
    "    plot_output.clear_output()\n",
    "    preview_output.clear_output()\n",
    "    export_output.clear_output()\n",
    "    try:\n",
    "        gpkg_path = gpkg_selector.value\n",
    "        layer = layer_selector.value\n",
    "        gdf = load_gpkg_layer(gpkg_path, layer)\n",
    "        frac = sampling_dropdown.value\n",
    "        global sampled_gdf\n",
    "        sampled_gdf = gdf.sample(frac=frac, random_state=1).reset_index(drop=True)\n",
    "        title_html.value = f\"<h4 style='text-align:center;'>📦 {gpkg_selector.label} | 🧭 Layer: {layer} | Sample: {int(frac*100)}%</h4><br>\"\n",
    "        meta_info.value = f'''\n",
    "        <div style=\"text-align:left;\">\n",
    "            <b>GPKG-bestand:</b> {gpkg_selector.label}<br>\n",
    "            <b>Layer:</b> {layer}<br>\n",
    "            <b>Sample:</b> {int(frac * 100)}%\n",
    "        </div>\n",
    "        '''\n",
    "        with plot_output:\n",
    "            fig, ax = plt.subplots(figsize=(6, 6))\n",
    "            sampled_gdf.plot(ax=ax)\n",
    "            ax.set_xlabel('')\n",
    "            ax.set_ylabel('')\n",
    "            ax.get_xaxis().set_visible(False)\n",
    "            ax.get_yaxis().set_visible(False)\n",
    "            plt.tight_layout()\n",
    "            plt.show()\n",
    "        with preview_output:\n",
    "            print('🧾 Sample preview:')\n",
    "            display(sampled_gdf.head(3))\n",
    "            print(f'Shape: {sampled_gdf.shape[0]} rows × {sampled_gdf.shape[1]} columns')\n",
    "    except Exception as e:\n",
    "        with plot_output:\n",
    "            print('⚠️ Plotfout:', e)\n"
   ]
  },
  {
   "cell_type": "code",
   "execution_count": 6,
   "id": "9130f15b",
   "metadata": {},
   "outputs": [],
   "source": [
    "\n",
    "def export_sample(b):\n",
    "    export_output.clear_output()\n",
    "    try:\n",
    "        ext = export_format_dropdown.value\n",
    "        fname_base = f\"sample_{layer_selector.value}_{int(sampling_dropdown.value*100)}\"\n",
    "        data_path = os.path.join(EXPORT_FOLDER, f\"{fname_base}{ext}\")\n",
    "        pdf_path = os.path.join(EXPORT_FOLDER, f\"{fname_base}.pdf\")\n",
    "        sampled_gdf.to_file(data_path, driver='GeoJSON' if ext == '.geojson' else 'GPKG')\n",
    "\n",
    "        with PdfPages(pdf_path) as pdf:\n",
    "            fig = plt.figure(figsize=(8.27, 11.69))  # A4 staand\n",
    "\n",
    "            # Titel, bestandsnaam, filterinfo direct op het canvas\n",
    "            title = \"GPKG Export\"\n",
    "            bestand = f\"Bestand: {gpkg_selector.label}\"\n",
    "            filterinfo = f\"Layer: {layer_selector.value} | Sample: {int(sampling_dropdown.value*100)}%\"\n",
    "\n",
    "            fig.text(0.5, 0.95, title, ha='center', fontsize=14, weight='bold')\n",
    "            fig.text(0.5, 0.92, bestand, ha='center', fontsize=10)\n",
    "            fig.text(0.5, 0.89, filterinfo, ha='center', fontsize=10)\n",
    "\n",
    "            # Eén enkel subplot voor geoplot (geen dubbele assen)\n",
    "            ax = fig.add_subplot(111, position=[0.1, 0.1, 0.8, 0.75])\n",
    "            sampled_gdf.plot(ax=ax)\n",
    "            ax.set_axis_off()\n",
    "\n",
    "            pdf.savefig(fig, bbox_inches='tight')\n",
    "            plt.close(fig)\n",
    "\n",
    "        with export_output:\n",
    "            print(f'✅ Data geëxporteerd naar: {data_path}')\n",
    "            print(f'📄 PDF gegenereerd: {pdf_path}')\n",
    "    except Exception as e:\n",
    "        with export_output:\n",
    "            print(f'❌ Export naar PDF mislukt: {e}')\n"
   ]
  },
  {
   "cell_type": "code",
   "execution_count": 7,
   "id": "aa293889",
   "metadata": {},
   "outputs": [
    {
     "data": {
      "application/vnd.jupyter.widget-view+json": {
       "model_id": "45086f0b255f4d9aa39c2aeb6b3cd269",
       "version_major": 2,
       "version_minor": 0
      },
      "text/plain": [
       "VBox(children=(HTML(value='<br>'), HTML(value=\"<h3 style='text-align:center;'>GPKG Sample generator</h3>\"), VB…"
      ]
     },
     "metadata": {},
     "output_type": "display_data"
    }
   ],
   "source": [
    "\n",
    "gpkg_selector.observe(update_layers, names='value')\n",
    "gpkg_selector.observe(update_plot, names='value')\n",
    "layer_selector.observe(update_plot, names='value')\n",
    "sampling_dropdown.observe(update_plot, names='value')\n",
    "export_button.on_click(export_sample)\n",
    "\n",
    "export_controls = widgets.VBox([\n",
    "    sampling_dropdown,\n",
    "    widgets.HBox([export_format_dropdown, export_button], layout=widgets.Layout(gap='10px'))\n",
    "])\n",
    "\n",
    "control_block = widgets.VBox([\n",
    "    gpkg_selector,\n",
    "    layer_selector,\n",
    "    export_controls,\n",
    "    widgets.HTML('<br>'),\n",
    "    export_output\n",
    "])\n",
    "\n",
    "meta_info = widgets.HTML(\n",
    "    value=f'''\n",
    "    <div style=\"text-align:left;\">\n",
    "        <b>GPKG-bestand:</b> {gpkg_selector.label}<br>\n",
    "        <b>Layer:</b> {layer_selector.value}<br>\n",
    "        <b>Sample:</b> {int(sampling_dropdown.value * 100)}%\n",
    "    </div>\n",
    "    ''',\n",
    "    layout=widgets.Layout(width='300px')\n",
    ")\n",
    "\n",
    "plot_and_info = widgets.VBox([\n",
    "    plot_output,\n",
    "    widgets.HTML('<br>'),\n",
    "    meta_info\n",
    "])\n",
    "\n",
    "vh_layout = widgets.VBox([\n",
    "    widgets.HTML('<br>'),\n",
    "    widgets.HTML(\"<h3 style='text-align:center;'>GPKG Sample generator</h3>\"),\n",
    "    control_block,\n",
    "    widgets.HTML('<br>'),\n",
    "    plot_and_info,\n",
    "    widgets.HTML('<br>'),\n",
    "    preview_output\n",
    "])\n",
    "\n",
    "display(vh_layout)\n",
    "update_layers(None)\n",
    "update_plot()\n"
   ]
  },
  {
   "cell_type": "code",
   "execution_count": null,
   "id": "0e4a6549-fb71-41d0-864f-b3166184a2cc",
   "metadata": {},
   "outputs": [],
   "source": []
  }
 ],
 "metadata": {
  "kernelspec": {
   "display_name": "Python 3 (ipykernel)",
   "language": "python",
   "name": "python3"
  },
  "language_info": {
   "codemirror_mode": {
    "name": "ipython",
    "version": 3
   },
   "file_extension": ".py",
   "mimetype": "text/x-python",
   "name": "python",
   "nbconvert_exporter": "python",
   "pygments_lexer": "ipython3",
   "version": "3.11.7"
  },
  "widgets": {
   "application/vnd.jupyter.widget-state+json": {
    "state": {
     "05934d8ecd9d4dfbb1d21ded3e2384f4": {
      "model_module": "@jupyter-widgets/controls",
      "model_module_version": "2.0.0",
      "model_name": "DropdownModel",
      "state": {
       "_options_labels": [
        "10%",
        "25%",
        "50%",
        "100%"
       ],
       "description": "Sample:",
       "index": 2,
       "layout": "IPY_MODEL_5c5c964f30af46558890b940b736bed2",
       "style": "IPY_MODEL_12ea95aa3e224711a800f7a5d7ccad28"
      }
     },
     "06321cb3d053489e9d7deaad89e05e33": {
      "model_module": "@jupyter-widgets/output",
      "model_module_version": "1.0.0",
      "model_name": "OutputModel",
      "state": {
       "layout": "IPY_MODEL_fba183a99c2e4c1eb51417c457e6e6c8",
       "outputs": [
        {
         "data": {
          "image/png": "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",
          "text/plain": "<Figure size 600x600 with 1 Axes>"
         },
         "metadata": {},
         "output_type": "display_data"
        }
       ]
      }
     },
     "11ef8bbb10e249b2ae2496ab1ea26869": {
      "model_module": "@jupyter-widgets/base",
      "model_module_version": "2.0.0",
      "model_name": "LayoutModel",
      "state": {}
     },
     "12ea95aa3e224711a800f7a5d7ccad28": {
      "model_module": "@jupyter-widgets/controls",
      "model_module_version": "2.0.0",
      "model_name": "DescriptionStyleModel",
      "state": {
       "description_width": ""
      }
     },
     "1337883355f645e5917f8976736729c1": {
      "model_module": "@jupyter-widgets/controls",
      "model_module_version": "2.0.0",
      "model_name": "HTMLModel",
      "state": {
       "layout": "IPY_MODEL_33b4eab9bff247519d24db9b08e6c9e5",
       "style": "IPY_MODEL_3a62d2f6076f4982992d739e988685c6",
       "value": "<br>"
      }
     },
     "16b66e49789f4358a7ed6aae74c83437": {
      "model_module": "@jupyter-widgets/base",
      "model_module_version": "2.0.0",
      "model_name": "LayoutModel",
      "state": {
       "width": "180px"
      }
     },
     "254e6516e9044a96b69f793e86ea6260": {
      "model_module": "@jupyter-widgets/output",
      "model_module_version": "1.0.0",
      "model_name": "OutputModel",
      "state": {
       "layout": "IPY_MODEL_a93415a984b548e5bd03c7dbba728874",
       "outputs": [
        {
         "name": "stdout",
         "output_type": "stream",
         "text": "🧾 Sample preview:\n"
        },
        {
         "data": {
          "text/html": "<div>\n<style scoped>\n    .dataframe tbody tr th:only-of-type {\n        vertical-align: middle;\n    }\n\n    .dataframe tbody tr th {\n        vertical-align: top;\n    }\n\n    .dataframe thead th {\n        text-align: right;\n    }\n</style>\n<table border=\"1\" class=\"dataframe\">\n  <thead>\n    <tr style=\"text-align: right;\">\n      <th></th>\n      <th>gemeentecode</th>\n      <th>gemeentenaam</th>\n      <th>indelingswijziging_wijken_en_buurten</th>\n      <th>water</th>\n      <th>omgevingsadressendichtheid</th>\n      <th>stedelijkheid_adressen_per_km2</th>\n      <th>bevolkingsdichtheid_inwoners_per_km2</th>\n      <th>aantal_inwoners</th>\n      <th>mannen</th>\n      <th>vrouwen</th>\n      <th>...</th>\n      <th>afstand_tot_open_nat_natuurlijk_terrein</th>\n      <th>afstand_tot_semiopenbaar_groen_totaal</th>\n      <th>afstand_tot_sportterrein</th>\n      <th>afstand_tot_volkstuin</th>\n      <th>afstand_tot_verblijfsrecreatief_terrein</th>\n      <th>afstand_tot_recreatief_binnenwater</th>\n      <th>afstand_tot_begraafplaats</th>\n      <th>jrstatcode</th>\n      <th>jaar</th>\n      <th>geometry</th>\n    </tr>\n  </thead>\n  <tbody>\n    <tr>\n      <th>0</th>\n      <td>GM0327</td>\n      <td>Leusden</td>\n      <td>1</td>\n      <td>NEE</td>\n      <td>1298</td>\n      <td>3</td>\n      <td>541</td>\n      <td>31681</td>\n      <td>15519</td>\n      <td>16162</td>\n      <td>...</td>\n      <td>-99995.0</td>\n      <td>-99995.0</td>\n      <td>-99995.0</td>\n      <td>-99995.0</td>\n      <td>-99995.0</td>\n      <td>-99995.0</td>\n      <td>-99995.0</td>\n      <td>2024GM0327</td>\n      <td>2024</td>\n      <td>MULTIPOLYGON (((1.59e+05 4.64e+05, 1.59e+05 4....</td>\n    </tr>\n    <tr>\n      <th>1</th>\n      <td>GM1969</td>\n      <td>Westerkwartier</td>\n      <td>-99997</td>\n      <td>JA</td>\n      <td>-99997</td>\n      <td>-99997</td>\n      <td>-99997</td>\n      <td>-99997</td>\n      <td>-99997</td>\n      <td>-99997</td>\n      <td>...</td>\n      <td>-99995.0</td>\n      <td>-99995.0</td>\n      <td>-99995.0</td>\n      <td>-99995.0</td>\n      <td>-99995.0</td>\n      <td>-99995.0</td>\n      <td>-99995.0</td>\n      <td>2024GM1969</td>\n      <td>2024</td>\n      <td>MULTIPOLYGON (((2.15e+05 5.95e+05, 2.15e+05 5....</td>\n    </tr>\n    <tr>\n      <th>2</th>\n      <td>GM0189</td>\n      <td>Wierden</td>\n      <td>1</td>\n      <td>NEE</td>\n      <td>711</td>\n      <td>4</td>\n      <td>264</td>\n      <td>24931</td>\n      <td>12485</td>\n      <td>12446</td>\n      <td>...</td>\n      <td>-99995.0</td>\n      <td>-99995.0</td>\n      <td>-99995.0</td>\n      <td>-99995.0</td>\n      <td>-99995.0</td>\n      <td>-99995.0</td>\n      <td>-99995.0</td>\n      <td>2024GM0189</td>\n      <td>2024</td>\n      <td>MULTIPOLYGON (((2.37e+05 4.89e+05, 2.37e+05 4....</td>\n    </tr>\n  </tbody>\n</table>\n<p>3 rows × 219 columns</p>\n</div>",
          "text/plain": "  gemeentecode    gemeentenaam  indelingswijziging_wijken_en_buurten water  \\\n0       GM0327         Leusden                                     1   NEE   \n1       GM1969  Westerkwartier                                -99997    JA   \n2       GM0189         Wierden                                     1   NEE   \n\n   omgevingsadressendichtheid  stedelijkheid_adressen_per_km2  \\\n0                        1298                               3   \n1                      -99997                          -99997   \n2                         711                               4   \n\n   bevolkingsdichtheid_inwoners_per_km2  aantal_inwoners  mannen  vrouwen  \\\n0                                   541            31681   15519    16162   \n1                                -99997           -99997  -99997   -99997   \n2                                   264            24931   12485    12446   \n\n   ...  afstand_tot_open_nat_natuurlijk_terrein  \\\n0  ...                                 -99995.0   \n1  ...                                 -99995.0   \n2  ...                                 -99995.0   \n\n   afstand_tot_semiopenbaar_groen_totaal  afstand_tot_sportterrein  \\\n0                               -99995.0                  -99995.0   \n1                               -99995.0                  -99995.0   \n2                               -99995.0                  -99995.0   \n\n   afstand_tot_volkstuin  afstand_tot_verblijfsrecreatief_terrein  \\\n0               -99995.0                                 -99995.0   \n1               -99995.0                                 -99995.0   \n2               -99995.0                                 -99995.0   \n\n   afstand_tot_recreatief_binnenwater  afstand_tot_begraafplaats  jrstatcode  \\\n0                            -99995.0                   -99995.0  2024GM0327   \n1                            -99995.0                   -99995.0  2024GM1969   \n2                            -99995.0                   -99995.0  2024GM0189   \n\n   jaar                                           geometry  \n0  2024  MULTIPOLYGON (((1.59e+05 4.64e+05, 1.59e+05 4....  \n1  2024  MULTIPOLYGON (((2.15e+05 5.95e+05, 2.15e+05 5....  \n2  2024  MULTIPOLYGON (((2.37e+05 4.89e+05, 2.37e+05 4....  \n\n[3 rows x 219 columns]"
         },
         "metadata": {},
         "output_type": "display_data"
        },
        {
         "name": "stdout",
         "output_type": "stream",
         "text": "Shape: 212 rows × 219 columns\n"
        }
       ]
      }
     },
     "29250123e3234b7caf35f17f19b99d57": {
      "model_module": "@jupyter-widgets/base",
      "model_module_version": "2.0.0",
      "model_name": "LayoutModel",
      "state": {}
     },
     "33b4eab9bff247519d24db9b08e6c9e5": {
      "model_module": "@jupyter-widgets/base",
      "model_module_version": "2.0.0",
      "model_name": "LayoutModel",
      "state": {}
     },
     "345c244ef28c437e8399c56a49902c87": {
      "model_module": "@jupyter-widgets/controls",
      "model_module_version": "2.0.0",
      "model_name": "HTMLModel",
      "state": {
       "layout": "IPY_MODEL_e932adebfa0c4ebea281039ff4f65e07",
       "style": "IPY_MODEL_d543037d887842869d549a78b6d8b8e0",
       "value": "<br>"
      }
     },
     "3544ee12f44d44cd913b05f8db7223bb": {
      "model_module": "@jupyter-widgets/controls",
      "model_module_version": "2.0.0",
      "model_name": "DescriptionStyleModel",
      "state": {
       "description_width": ""
      }
     },
     "3a62d2f6076f4982992d739e988685c6": {
      "model_module": "@jupyter-widgets/controls",
      "model_module_version": "2.0.0",
      "model_name": "HTMLStyleModel",
      "state": {
       "description_width": "",
       "font_size": null,
       "text_color": null
      }
     },
     "40ef79f183ff439da10694c3678bd745": {
      "model_module": "@jupyter-widgets/controls",
      "model_module_version": "2.0.0",
      "model_name": "HTMLModel",
      "state": {
       "layout": "IPY_MODEL_4f312f6373f94e038d9c7929a8a4b939",
       "style": "IPY_MODEL_47775f903b05470bacccd225ccd38a7d",
       "value": "<br>"
      }
     },
     "42712e5de1bc4c5094ef9b0d7729df5b": {
      "model_module": "@jupyter-widgets/controls",
      "model_module_version": "2.0.0",
      "model_name": "HTMLStyleModel",
      "state": {
       "description_width": "",
       "font_size": null,
       "text_color": null
      }
     },
     "45086f0b255f4d9aa39c2aeb6b3cd269": {
      "model_module": "@jupyter-widgets/controls",
      "model_module_version": "2.0.0",
      "model_name": "VBoxModel",
      "state": {
       "children": [
        "IPY_MODEL_345c244ef28c437e8399c56a49902c87",
        "IPY_MODEL_dc45f376f5ed41ec89bd1908ddcd0a54",
        "IPY_MODEL_f07cbe26902246c38774d8191359e4f5",
        "IPY_MODEL_e87870651b54478d8cbb18c2e181ce54",
        "IPY_MODEL_4582c9c447ad4b328ef2e73734bb6dfb",
        "IPY_MODEL_40ef79f183ff439da10694c3678bd745",
        "IPY_MODEL_254e6516e9044a96b69f793e86ea6260"
       ],
       "layout": "IPY_MODEL_ab46943751774339bb2d83b8ebec55f9"
      }
     },
     "4582c9c447ad4b328ef2e73734bb6dfb": {
      "model_module": "@jupyter-widgets/controls",
      "model_module_version": "2.0.0",
      "model_name": "VBoxModel",
      "state": {
       "children": [
        "IPY_MODEL_06321cb3d053489e9d7deaad89e05e33",
        "IPY_MODEL_1337883355f645e5917f8976736729c1",
        "IPY_MODEL_9bc1a862fd4645aaa8823881a99bb3b2"
       ],
       "layout": "IPY_MODEL_8f6bea5c39b6482cb1ced1086b7f83f8"
      }
     },
     "47775f903b05470bacccd225ccd38a7d": {
      "model_module": "@jupyter-widgets/controls",
      "model_module_version": "2.0.0",
      "model_name": "HTMLStyleModel",
      "state": {
       "description_width": "",
       "font_size": null,
       "text_color": null
      }
     },
     "4ed5ec24d14f432182ec66b7b09b2772": {
      "model_module": "@jupyter-widgets/base",
      "model_module_version": "2.0.0",
      "model_name": "LayoutModel",
      "state": {}
     },
     "4f312f6373f94e038d9c7929a8a4b939": {
      "model_module": "@jupyter-widgets/base",
      "model_module_version": "2.0.0",
      "model_name": "LayoutModel",
      "state": {}
     },
     "5c5c964f30af46558890b940b736bed2": {
      "model_module": "@jupyter-widgets/base",
      "model_module_version": "2.0.0",
      "model_name": "LayoutModel",
      "state": {
       "width": "180px"
      }
     },
     "5f90ae356e5e4afcaad6f164b7838b1e": {
      "model_module": "@jupyter-widgets/controls",
      "model_module_version": "2.0.0",
      "model_name": "HTMLStyleModel",
      "state": {
       "description_width": "",
       "font_size": null,
       "text_color": null
      }
     },
     "6040e2094e7048d7b36d46ca5a8dfd98": {
      "model_module": "@jupyter-widgets/controls",
      "model_module_version": "2.0.0",
      "model_name": "DropdownModel",
      "state": {
       "_options_labels": [
        "wijkenbuurten_2024_v1.gpkg"
       ],
       "description": "GPKG:",
       "index": 0,
       "layout": "IPY_MODEL_a1ac35e1a10e4e8aa0eaac09cd38b4a6",
       "style": "IPY_MODEL_3544ee12f44d44cd913b05f8db7223bb"
      }
     },
     "62d15faa9d1b47fabdafe0aef2d41ee1": {
      "model_module": "@jupyter-widgets/controls",
      "model_module_version": "2.0.0",
      "model_name": "DropdownModel",
      "state": {
       "_options_labels": [
        "buurten",
        "gemeenten",
        "wijken"
       ],
       "description": "Layer:",
       "index": 1,
       "layout": "IPY_MODEL_83ac2896e1b04b718a96f1410978c221",
       "style": "IPY_MODEL_d037767accd64c2d9e0e5ebe65f35f88"
      }
     },
     "642524427ec642a69d6e57f578367df0": {
      "model_module": "@jupyter-widgets/output",
      "model_module_version": "1.0.0",
      "model_name": "OutputModel",
      "state": {
       "layout": "IPY_MODEL_11ef8bbb10e249b2ae2496ab1ea26869"
      }
     },
     "65430e7d715e4c03908d100d375bc832": {
      "model_module": "@jupyter-widgets/base",
      "model_module_version": "2.0.0",
      "model_name": "LayoutModel",
      "state": {}
     },
     "667e6bce99d045eda5d17f34f0e8d6d8": {
      "model_module": "@jupyter-widgets/base",
      "model_module_version": "2.0.0",
      "model_name": "LayoutModel",
      "state": {}
     },
     "763b7908f8154ca9a249ab5748bc4e26": {
      "model_module": "@jupyter-widgets/base",
      "model_module_version": "2.0.0",
      "model_name": "LayoutModel",
      "state": {
       "width": "300px"
      }
     },
     "7cdc1f7d264f4da78f4c82a6a9c19282": {
      "model_module": "@jupyter-widgets/controls",
      "model_module_version": "2.0.0",
      "model_name": "DescriptionStyleModel",
      "state": {
       "description_width": ""
      }
     },
     "817277eff2374003b2c8c3aa51f7d7c2": {
      "model_module": "@jupyter-widgets/controls",
      "model_module_version": "2.0.0",
      "model_name": "HTMLStyleModel",
      "state": {
       "description_width": "",
       "font_size": null,
       "text_color": null
      }
     },
     "83ac2896e1b04b718a96f1410978c221": {
      "model_module": "@jupyter-widgets/base",
      "model_module_version": "2.0.0",
      "model_name": "LayoutModel",
      "state": {
       "width": "320px"
      }
     },
     "850226c3f85b412da7f3a73e4c31a769": {
      "model_module": "@jupyter-widgets/controls",
      "model_module_version": "2.0.0",
      "model_name": "HTMLModel",
      "state": {
       "layout": "IPY_MODEL_a7253a974fda4c15aa2a66cfc4e25c5b",
       "style": "IPY_MODEL_f92df80eee5846f3adec87fcf89d7c19",
       "value": "<h4 style='text-align:center;'>📦 wijkenbuurten_2024_v1.gpkg | 🧭 Layer: gemeenten | Sample: 50%</h4><br>"
      }
     },
     "8f6bea5c39b6482cb1ced1086b7f83f8": {
      "model_module": "@jupyter-widgets/base",
      "model_module_version": "2.0.0",
      "model_name": "LayoutModel",
      "state": {}
     },
     "96dc1691db394eb6bde94385a440e394": {
      "model_module": "@jupyter-widgets/base",
      "model_module_version": "2.0.0",
      "model_name": "LayoutModel",
      "state": {}
     },
     "9bc1a862fd4645aaa8823881a99bb3b2": {
      "model_module": "@jupyter-widgets/controls",
      "model_module_version": "2.0.0",
      "model_name": "HTMLModel",
      "state": {
       "layout": "IPY_MODEL_763b7908f8154ca9a249ab5748bc4e26",
       "style": "IPY_MODEL_817277eff2374003b2c8c3aa51f7d7c2",
       "value": "\n        <div style=\"text-align:left;\">\n            <b>GPKG-bestand:</b> wijkenbuurten_2024_v1.gpkg<br>\n            <b>Layer:</b> gemeenten<br>\n            <b>Sample:</b> 50%\n        </div>\n        "
      }
     },
     "a1ac35e1a10e4e8aa0eaac09cd38b4a6": {
      "model_module": "@jupyter-widgets/base",
      "model_module_version": "2.0.0",
      "model_name": "LayoutModel",
      "state": {
       "width": "320px"
      }
     },
     "a7253a974fda4c15aa2a66cfc4e25c5b": {
      "model_module": "@jupyter-widgets/base",
      "model_module_version": "2.0.0",
      "model_name": "LayoutModel",
      "state": {
       "justify_content": "center"
      }
     },
     "a8ed7499a1ff416aa61e5122de03b49f": {
      "model_module": "@jupyter-widgets/base",
      "model_module_version": "2.0.0",
      "model_name": "LayoutModel",
      "state": {
       "width": "140px"
      }
     },
     "a93415a984b548e5bd03c7dbba728874": {
      "model_module": "@jupyter-widgets/base",
      "model_module_version": "2.0.0",
      "model_name": "LayoutModel",
      "state": {}
     },
     "ab46943751774339bb2d83b8ebec55f9": {
      "model_module": "@jupyter-widgets/base",
      "model_module_version": "2.0.0",
      "model_name": "LayoutModel",
      "state": {}
     },
     "b0c0a9b23bcf4f04873173c180d0f2e6": {
      "model_module": "@jupyter-widgets/controls",
      "model_module_version": "2.0.0",
      "model_name": "DropdownModel",
      "state": {
       "_options_labels": [
        ".gpkg",
        ".geojson",
        ".pdf"
       ],
       "description": "Export:",
       "index": 0,
       "layout": "IPY_MODEL_16b66e49789f4358a7ed6aae74c83437",
       "style": "IPY_MODEL_7cdc1f7d264f4da78f4c82a6a9c19282"
      }
     },
     "c406f43715a3477a823ef40b7db2530a": {
      "model_module": "@jupyter-widgets/controls",
      "model_module_version": "2.0.0",
      "model_name": "HTMLModel",
      "state": {
       "layout": "IPY_MODEL_4ed5ec24d14f432182ec66b7b09b2772",
       "style": "IPY_MODEL_5f90ae356e5e4afcaad6f164b7838b1e",
       "value": "<br>"
      }
     },
     "c848748c640949bd9958ce19ba14e608": {
      "model_module": "@jupyter-widgets/base",
      "model_module_version": "2.0.0",
      "model_name": "LayoutModel",
      "state": {}
     },
     "d037767accd64c2d9e0e5ebe65f35f88": {
      "model_module": "@jupyter-widgets/controls",
      "model_module_version": "2.0.0",
      "model_name": "DescriptionStyleModel",
      "state": {
       "description_width": ""
      }
     },
     "d543037d887842869d549a78b6d8b8e0": {
      "model_module": "@jupyter-widgets/controls",
      "model_module_version": "2.0.0",
      "model_name": "HTMLStyleModel",
      "state": {
       "description_width": "",
       "font_size": null,
       "text_color": null
      }
     },
     "dc45f376f5ed41ec89bd1908ddcd0a54": {
      "model_module": "@jupyter-widgets/controls",
      "model_module_version": "2.0.0",
      "model_name": "HTMLModel",
      "state": {
       "layout": "IPY_MODEL_96dc1691db394eb6bde94385a440e394",
       "style": "IPY_MODEL_42712e5de1bc4c5094ef9b0d7729df5b",
       "value": "<h3 style='text-align:center;'>GPKG Sample generator</h3>"
      }
     },
     "df10649442bf4f879c876feb959ed776": {
      "model_module": "@jupyter-widgets/controls",
      "model_module_version": "2.0.0",
      "model_name": "HBoxModel",
      "state": {
       "children": [
        "IPY_MODEL_b0c0a9b23bcf4f04873173c180d0f2e6",
        "IPY_MODEL_ef215f05a09f4756984c092dad66ffd6"
       ],
       "layout": "IPY_MODEL_667e6bce99d045eda5d17f34f0e8d6d8"
      }
     },
     "e11dacee0d93498fb532f29e06b4e5c5": {
      "model_module": "@jupyter-widgets/controls",
      "model_module_version": "2.0.0",
      "model_name": "VBoxModel",
      "state": {
       "children": [
        "IPY_MODEL_05934d8ecd9d4dfbb1d21ded3e2384f4",
        "IPY_MODEL_df10649442bf4f879c876feb959ed776"
       ],
       "layout": "IPY_MODEL_c848748c640949bd9958ce19ba14e608"
      }
     },
     "e87870651b54478d8cbb18c2e181ce54": {
      "model_module": "@jupyter-widgets/controls",
      "model_module_version": "2.0.0",
      "model_name": "HTMLModel",
      "state": {
       "layout": "IPY_MODEL_29250123e3234b7caf35f17f19b99d57",
       "style": "IPY_MODEL_ff237159fe404593b4e4305cd7c2a752",
       "value": "<br>"
      }
     },
     "e932adebfa0c4ebea281039ff4f65e07": {
      "model_module": "@jupyter-widgets/base",
      "model_module_version": "2.0.0",
      "model_name": "LayoutModel",
      "state": {}
     },
     "ef215f05a09f4756984c092dad66ffd6": {
      "model_module": "@jupyter-widgets/controls",
      "model_module_version": "2.0.0",
      "model_name": "ButtonModel",
      "state": {
       "description": "Export sample",
       "layout": "IPY_MODEL_a8ed7499a1ff416aa61e5122de03b49f",
       "style": "IPY_MODEL_f32288df75cc4445ab1688aaf888cb6a",
       "tooltip": null
      }
     },
     "f07cbe26902246c38774d8191359e4f5": {
      "model_module": "@jupyter-widgets/controls",
      "model_module_version": "2.0.0",
      "model_name": "VBoxModel",
      "state": {
       "children": [
        "IPY_MODEL_6040e2094e7048d7b36d46ca5a8dfd98",
        "IPY_MODEL_62d15faa9d1b47fabdafe0aef2d41ee1",
        "IPY_MODEL_e11dacee0d93498fb532f29e06b4e5c5",
        "IPY_MODEL_c406f43715a3477a823ef40b7db2530a",
        "IPY_MODEL_642524427ec642a69d6e57f578367df0"
       ],
       "layout": "IPY_MODEL_65430e7d715e4c03908d100d375bc832"
      }
     },
     "f32288df75cc4445ab1688aaf888cb6a": {
      "model_module": "@jupyter-widgets/controls",
      "model_module_version": "2.0.0",
      "model_name": "ButtonStyleModel",
      "state": {
       "font_family": null,
       "font_size": null,
       "font_style": null,
       "font_variant": null,
       "font_weight": null,
       "text_color": null,
       "text_decoration": null
      }
     },
     "f92df80eee5846f3adec87fcf89d7c19": {
      "model_module": "@jupyter-widgets/controls",
      "model_module_version": "2.0.0",
      "model_name": "HTMLStyleModel",
      "state": {
       "description_width": "",
       "font_size": null,
       "text_color": null
      }
     },
     "fba183a99c2e4c1eb51417c457e6e6c8": {
      "model_module": "@jupyter-widgets/base",
      "model_module_version": "2.0.0",
      "model_name": "LayoutModel",
      "state": {
       "justify_content": "center"
      }
     },
     "ff237159fe404593b4e4305cd7c2a752": {
      "model_module": "@jupyter-widgets/controls",
      "model_module_version": "2.0.0",
      "model_name": "HTMLStyleModel",
      "state": {
       "description_width": "",
       "font_size": null,
       "text_color": null
      }
     }
    },
    "version_major": 2,
    "version_minor": 0
   }
  }
 },
 "nbformat": 4,
 "nbformat_minor": 5
}

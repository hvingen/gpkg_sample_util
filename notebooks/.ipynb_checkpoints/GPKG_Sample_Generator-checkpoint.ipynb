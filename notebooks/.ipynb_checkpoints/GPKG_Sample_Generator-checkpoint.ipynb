{
 "cells": [
  {
   "cell_type": "code",
   "execution_count": 1,
   "id": "45216861",
   "metadata": {},
   "outputs": [],
   "source": [
    "\n",
    "import sys\n",
    "from pathlib import Path\n",
    "\n",
    "project_root = Path.cwd()\n",
    "while not (project_root / 'config.py').exists() and project_root != project_root.parent:\n",
    "    project_root = project_root.parent\n",
    "\n",
    "SRC_DIR = project_root / 'src'\n",
    "sys.path.insert(0, str(project_root))\n",
    "sys.path.insert(0, str(SRC_DIR))\n"
   ]
  },
  {
   "cell_type": "code",
   "execution_count": 2,
   "id": "c2dca662",
   "metadata": {},
   "outputs": [],
   "source": [
    "\n",
    "import os\n",
    "import geopandas as gpd\n",
    "import matplotlib.pyplot as plt\n",
    "import ipywidgets as widgets\n",
    "from IPython.display import display\n",
    "from matplotlib.backends.backend_pdf import PdfPages\n",
    "from datetime import datetime\n",
    "\n",
    "from config import SHAPEFILES_DIR, EXPORT_FOLDER\n",
    "from gpkg_service import list_gpkg_files, list_gpkg_layers, load_gpkg_layer\n"
   ]
  },
  {
   "cell_type": "code",
   "execution_count": 3,
   "id": "c2ff0419",
   "metadata": {},
   "outputs": [],
   "source": [
    "\n",
    "plot_output = widgets.Output(layout={'justify_content': 'center'})\n",
    "preview_output = widgets.Output()\n",
    "export_output = widgets.Output()\n",
    "\n",
    "gpkg_files = list_gpkg_files(SHAPEFILES_DIR)\n",
    "gpkg_selector = widgets.Dropdown(\n",
    "    options=[(f.name, f) for f in gpkg_files],\n",
    "    description='GPKG:',\n",
    "    layout=widgets.Layout(width='320px')\n",
    ")\n",
    "\n",
    "layer_selector = widgets.Dropdown(\n",
    "    options=[],\n",
    "    description='Layer:',\n",
    "    layout=widgets.Layout(width='320px')\n",
    ")\n",
    "\n",
    "sampling_dropdown = widgets.Dropdown(\n",
    "    options=[('10%', 0.10), ('25%', 0.25), ('50%', 0.50), ('100%', 1.0)],\n",
    "    value=1.0,\n",
    "    description='Sample:',\n",
    "    layout=widgets.Layout(width='180px')\n",
    ")\n",
    "\n",
    "export_format_dropdown = widgets.Dropdown(\n",
    "    options=['.gpkg', '.geojson', '.pdf'],\n",
    "    value='.gpkg',\n",
    "    description='Export:',\n",
    "    layout=widgets.Layout(width='180px')\n",
    ")\n",
    "\n",
    "export_button = widgets.Button(description='Export sample', layout=widgets.Layout(width='140px'))\n",
    "title_html = widgets.HTML(value='', layout=widgets.Layout(justify_content='center'))\n"
   ]
  },
  {
   "cell_type": "code",
   "execution_count": 4,
   "id": "aba11b5e",
   "metadata": {},
   "outputs": [],
   "source": [
    "\n",
    "def update_layers(change):\n",
    "    if gpkg_selector.value:\n",
    "        layers = list_gpkg_layers(gpkg_selector.value)\n",
    "        layer_selector.options = layers\n",
    "        if 'buurten' in layers:\n",
    "            layer_selector.value = 'buurten'\n",
    "        elif layers:\n",
    "            layer_selector.value = layers[0]\n"
   ]
  },
  {
   "cell_type": "code",
   "execution_count": 5,
   "id": "4930b482",
   "metadata": {},
   "outputs": [],
   "source": [
    "\n",
    "def update_plot(*args):\n",
    "    plot_output.clear_output()\n",
    "    preview_output.clear_output()\n",
    "    export_output.clear_output()\n",
    "    try:\n",
    "        gpkg_path = gpkg_selector.value\n",
    "        layer = layer_selector.value\n",
    "        gdf = load_gpkg_layer(gpkg_path, layer)\n",
    "        frac = sampling_dropdown.value\n",
    "        global sampled_gdf\n",
    "        sampled_gdf = gdf.sample(frac=frac, random_state=1).reset_index(drop=True)\n",
    "        title_html.value = f\"<h4 style='text-align:center;'>📦 {gpkg_selector.label} | 🧭 Layer: {layer} | Sample: {int(frac*100)}%</h4><br>\"\n",
    "        meta_info.value = f'''\n",
    "        <div style=\"text-align:left;\">\n",
    "            <b>GPKG-bestand:</b> {gpkg_selector.label}<br>\n",
    "            <b>Layer:</b> {layer}<br>\n",
    "            <b>Sample:</b> {int(frac * 100)}%\n",
    "        </div>\n",
    "        '''\n",
    "        with plot_output:\n",
    "            fig, ax = plt.subplots(figsize=(6, 6))\n",
    "            sampled_gdf.plot(ax=ax)\n",
    "            ax.set_xlabel('')\n",
    "            ax.set_ylabel('')\n",
    "            ax.get_xaxis().set_visible(False)\n",
    "            ax.get_yaxis().set_visible(False)\n",
    "            plt.tight_layout()\n",
    "            plt.show()\n",
    "        with preview_output:\n",
    "            print('🧾 Sample preview:')\n",
    "            display(sampled_gdf.head(3))\n",
    "            print(f'Shape: {sampled_gdf.shape[0]} rows × {sampled_gdf.shape[1]} columns')\n",
    "    except Exception as e:\n",
    "        with plot_output:\n",
    "            print('⚠️ Plotfout:', e)\n"
   ]
  },
  {
   "cell_type": "code",
   "execution_count": 6,
   "id": "9130f15b",
   "metadata": {},
   "outputs": [],
   "source": [
    "\n",
    "def export_sample(b):\n",
    "    export_output.clear_output()\n",
    "    try:\n",
    "        ext = export_format_dropdown.value\n",
    "        fname_base = f\"sample_{layer_selector.value}_{int(sampling_dropdown.value*100)}\"\n",
    "        data_path = os.path.join(EXPORT_FOLDER, f\"{fname_base}{ext}\")\n",
    "        pdf_path = os.path.join(EXPORT_FOLDER, f\"{fname_base}.pdf\")\n",
    "        sampled_gdf.to_file(data_path, driver='GeoJSON' if ext == '.geojson' else 'GPKG')\n",
    "\n",
    "        with PdfPages(pdf_path) as pdf:\n",
    "            fig = plt.figure(figsize=(8.27, 11.69))  # A4 staand\n",
    "\n",
    "            # Titel, bestandsnaam, filterinfo direct op het canvas\n",
    "            title = \"GPKG Export\"\n",
    "            bestand = f\"Bestand: {gpkg_selector.label}\"\n",
    "            filterinfo = f\"Layer: {layer_selector.value} | Sample: {int(sampling_dropdown.value*100)}%\"\n",
    "\n",
    "            fig.text(0.5, 0.95, title, ha='center', fontsize=14, weight='bold')\n",
    "            fig.text(0.5, 0.92, bestand, ha='center', fontsize=10)\n",
    "            fig.text(0.5, 0.89, filterinfo, ha='center', fontsize=10)\n",
    "\n",
    "            # Eén enkel subplot voor geoplot (geen dubbele assen)\n",
    "            ax = fig.add_subplot(111, position=[0.1, 0.1, 0.8, 0.75])\n",
    "            sampled_gdf.plot(ax=ax)\n",
    "            ax.set_axis_off()\n",
    "\n",
    "            pdf.savefig(fig, bbox_inches='tight')\n",
    "            plt.close(fig)\n",
    "\n",
    "        with export_output:\n",
    "            print(f'✅ Data geëxporteerd naar: {data_path}')\n",
    "            print(f'📄 PDF gegenereerd: {pdf_path}')\n",
    "    except Exception as e:\n",
    "        with export_output:\n",
    "            print(f'❌ Export naar PDF mislukt: {e}')\n"
   ]
  },
  {
   "cell_type": "code",
   "execution_count": 7,
   "id": "aa293889",
   "metadata": {},
   "outputs": [
    {
     "data": {
      "application/vnd.jupyter.widget-view+json": {
       "model_id": "8b1c6896cd2d469a90e21fa89bb4f59d",
       "version_major": 2,
       "version_minor": 0
      },
      "text/plain": [
       "VBox(children=(HTML(value='<br>'), HTML(value=\"<h3 style='text-align:center;'>GPKG Sample generator</h3>\"), VB…"
      ]
     },
     "metadata": {},
     "output_type": "display_data"
    }
   ],
   "source": [
    "\n",
    "gpkg_selector.observe(update_layers, names='value')\n",
    "gpkg_selector.observe(update_plot, names='value')\n",
    "layer_selector.observe(update_plot, names='value')\n",
    "sampling_dropdown.observe(update_plot, names='value')\n",
    "export_button.on_click(export_sample)\n",
    "\n",
    "export_controls = widgets.VBox([\n",
    "    sampling_dropdown,\n",
    "    widgets.HBox([export_format_dropdown, export_button], layout=widgets.Layout(gap='10px'))\n",
    "])\n",
    "\n",
    "control_block = widgets.VBox([\n",
    "    gpkg_selector,\n",
    "    layer_selector,\n",
    "    export_controls,\n",
    "    widgets.HTML('<br>'),\n",
    "    export_output\n",
    "])\n",
    "\n",
    "meta_info = widgets.HTML(\n",
    "    value=f'''\n",
    "    <div style=\"text-align:left;\">\n",
    "        <b>GPKG-bestand:</b> {gpkg_selector.label}<br>\n",
    "        <b>Layer:</b> {layer_selector.value}<br>\n",
    "        <b>Sample:</b> {int(sampling_dropdown.value * 100)}%\n",
    "    </div>\n",
    "    ''',\n",
    "    layout=widgets.Layout(width='300px')\n",
    ")\n",
    "\n",
    "plot_and_info = widgets.VBox([\n",
    "    plot_output,\n",
    "    widgets.HTML('<br>'),\n",
    "    meta_info\n",
    "])\n",
    "\n",
    "vh_layout = widgets.VBox([\n",
    "    widgets.HTML('<br>'),\n",
    "    widgets.HTML(\"<h3 style='text-align:center;'>GPKG Sample generator</h3>\"),\n",
    "    control_block,\n",
    "    widgets.HTML('<br>'),\n",
    "    plot_and_info,\n",
    "    widgets.HTML('<br>'),\n",
    "    preview_output\n",
    "])\n",
    "\n",
    "display(vh_layout)\n",
    "update_layers(None)\n",
    "update_plot()\n"
   ]
  },
  {
   "cell_type": "code",
   "execution_count": null,
   "id": "0e4a6549-fb71-41d0-864f-b3166184a2cc",
   "metadata": {},
   "outputs": [],
   "source": []
  }
 ],
 "metadata": {
  "kernelspec": {
   "display_name": "Python 3 (ipykernel)",
   "language": "python",
   "name": "python3"
  },
  "language_info": {
   "codemirror_mode": {
    "name": "ipython",
    "version": 3
   },
   "file_extension": ".py",
   "mimetype": "text/x-python",
   "name": "python",
   "nbconvert_exporter": "python",
   "pygments_lexer": "ipython3",
   "version": "3.11.7"
  },
  "widgets": {
   "application/vnd.jupyter.widget-state+json": {
    "state": {
     "0774d2ef3a554a7a8a07f9805a0bd089": {
      "model_module": "@jupyter-widgets/base",
      "model_module_version": "2.0.0",
      "model_name": "LayoutModel",
      "state": {}
     },
     "1172762a6b694bb4b77fa43ed669df8b": {
      "model_module": "@jupyter-widgets/base",
      "model_module_version": "2.0.0",
      "model_name": "LayoutModel",
      "state": {}
     },
     "1408026c6110447ba4107f21edf143b9": {
      "model_module": "@jupyter-widgets/controls",
      "model_module_version": "2.0.0",
      "model_name": "HTMLModel",
      "state": {
       "layout": "IPY_MODEL_a5bf3c6d81de49478bab67d1da12d765",
       "style": "IPY_MODEL_42ba70833a824005a95e3150fe31fc82",
       "value": "<br>"
      }
     },
     "1ebe069784984a90b23ff655d992045c": {
      "model_module": "@jupyter-widgets/controls",
      "model_module_version": "2.0.0",
      "model_name": "HBoxModel",
      "state": {
       "children": [
        "IPY_MODEL_f074b47aa74246499eac3c4b6e303a5b",
        "IPY_MODEL_83e159e31b8841c3a8d382ad944b2e18"
       ],
       "layout": "IPY_MODEL_51f45e9052194bec9c1009ed812e4b8f"
      }
     },
     "20eb7da68d5743a3a5fb9c1017ed9828": {
      "model_module": "@jupyter-widgets/controls",
      "model_module_version": "2.0.0",
      "model_name": "HTMLStyleModel",
      "state": {
       "description_width": "",
       "font_size": null,
       "text_color": null
      }
     },
     "24d88cded7a74f58b151479f9d95ce43": {
      "model_module": "@jupyter-widgets/base",
      "model_module_version": "2.0.0",
      "model_name": "LayoutModel",
      "state": {
       "width": "180px"
      }
     },
     "290d6fd9dc94467397af9ab969e26381": {
      "model_module": "@jupyter-widgets/base",
      "model_module_version": "2.0.0",
      "model_name": "LayoutModel",
      "state": {}
     },
     "32779757dfa34b18a311f9a99350f121": {
      "model_module": "@jupyter-widgets/base",
      "model_module_version": "2.0.0",
      "model_name": "LayoutModel",
      "state": {
       "width": "300px"
      }
     },
     "3c9b493361b144c88e853737e3383378": {
      "model_module": "@jupyter-widgets/base",
      "model_module_version": "2.0.0",
      "model_name": "LayoutModel",
      "state": {}
     },
     "3f3fa35b491b4403bc69a821ae7087bb": {
      "model_module": "@jupyter-widgets/controls",
      "model_module_version": "2.0.0",
      "model_name": "HTMLStyleModel",
      "state": {
       "description_width": "",
       "font_size": null,
       "text_color": null
      }
     },
     "42ba70833a824005a95e3150fe31fc82": {
      "model_module": "@jupyter-widgets/controls",
      "model_module_version": "2.0.0",
      "model_name": "HTMLStyleModel",
      "state": {
       "description_width": "",
       "font_size": null,
       "text_color": null
      }
     },
     "447bd913977d4647b44426c9257f7d0c": {
      "model_module": "@jupyter-widgets/controls",
      "model_module_version": "2.0.0",
      "model_name": "VBoxModel",
      "state": {
       "children": [
        "IPY_MODEL_af105f976fa14c22bcdcd4ed7179bec8",
        "IPY_MODEL_1ebe069784984a90b23ff655d992045c"
       ],
       "layout": "IPY_MODEL_a6f1fb1e10a744d5a133dced9f67f1d2"
      }
     },
     "4993de38c53f4dd996ad57d03ce7b175": {
      "model_module": "@jupyter-widgets/controls",
      "model_module_version": "2.0.0",
      "model_name": "DescriptionStyleModel",
      "state": {
       "description_width": ""
      }
     },
     "4cb9fad2991d44969025ada8ec51b285": {
      "model_module": "@jupyter-widgets/controls",
      "model_module_version": "2.0.0",
      "model_name": "DescriptionStyleModel",
      "state": {
       "description_width": ""
      }
     },
     "4de860c9cf4546259d7a41a0b7e945e2": {
      "model_module": "@jupyter-widgets/controls",
      "model_module_version": "2.0.0",
      "model_name": "HTMLStyleModel",
      "state": {
       "description_width": "",
       "font_size": null,
       "text_color": null
      }
     },
     "51f45e9052194bec9c1009ed812e4b8f": {
      "model_module": "@jupyter-widgets/base",
      "model_module_version": "2.0.0",
      "model_name": "LayoutModel",
      "state": {}
     },
     "52868c0059cf416a9561624af519c027": {
      "model_module": "@jupyter-widgets/controls",
      "model_module_version": "2.0.0",
      "model_name": "HTMLStyleModel",
      "state": {
       "description_width": "",
       "font_size": null,
       "text_color": null
      }
     },
     "532758b93c7a405180b00ba66b00559f": {
      "model_module": "@jupyter-widgets/base",
      "model_module_version": "2.0.0",
      "model_name": "LayoutModel",
      "state": {}
     },
     "5b73e8427e334e8bb72f3ccf167ba6f9": {
      "model_module": "@jupyter-widgets/controls",
      "model_module_version": "2.0.0",
      "model_name": "VBoxModel",
      "state": {
       "children": [
        "IPY_MODEL_927008fd0f3b40d9acbe6ac5d0d975e8",
        "IPY_MODEL_1408026c6110447ba4107f21edf143b9",
        "IPY_MODEL_9ba056661c634ce5929007a3c86d93b0"
       ],
       "layout": "IPY_MODEL_7c8fb3ee62774d2e82fac48a9276091a"
      }
     },
     "61e17aa77c844d91aa8d10200176b484": {
      "model_module": "@jupyter-widgets/base",
      "model_module_version": "2.0.0",
      "model_name": "LayoutModel",
      "state": {
       "justify_content": "center"
      }
     },
     "653ffb9ae3524c05bfb704298809de34": {
      "model_module": "@jupyter-widgets/base",
      "model_module_version": "2.0.0",
      "model_name": "LayoutModel",
      "state": {
       "width": "180px"
      }
     },
     "6a99d05293d241b88cf82db2b8066f98": {
      "model_module": "@jupyter-widgets/controls",
      "model_module_version": "2.0.0",
      "model_name": "DropdownModel",
      "state": {
       "_options_labels": [
        "buurten",
        "gemeenten",
        "wijken"
       ],
       "description": "Layer:",
       "index": 1,
       "layout": "IPY_MODEL_fb2a8b247c2e4cfaa2ab7cba72902025",
       "style": "IPY_MODEL_f0b4a16fde954bcf9420edc4da5be04e"
      }
     },
     "6dcf1e90cb8f4704a7cceae14720af73": {
      "model_module": "@jupyter-widgets/base",
      "model_module_version": "2.0.0",
      "model_name": "LayoutModel",
      "state": {
       "width": "320px"
      }
     },
     "71517ebcddf14fa78bd19a0d59205fcb": {
      "model_module": "@jupyter-widgets/controls",
      "model_module_version": "2.0.0",
      "model_name": "HTMLModel",
      "state": {
       "layout": "IPY_MODEL_61e17aa77c844d91aa8d10200176b484",
       "style": "IPY_MODEL_52868c0059cf416a9561624af519c027",
       "value": "<h4 style='text-align:center;'>📦 wijkenbuurten_2024_v1.gpkg | 🧭 Layer: gemeenten | Sample: 10%</h4><br>"
      }
     },
     "766c53f10670487ba3c9fabc70b24868": {
      "model_module": "@jupyter-widgets/output",
      "model_module_version": "1.0.0",
      "model_name": "OutputModel",
      "state": {
       "layout": "IPY_MODEL_3c9b493361b144c88e853737e3383378",
       "outputs": [
        {
         "name": "stdout",
         "output_type": "stream",
         "text": "✅ Data geëxporteerd naar: /Users/hvingen/Repositories/Opdracht_2_2025/exports/sample_gemeenten_10.pdf\n📄 PDF gegenereerd: /Users/hvingen/Repositories/Opdracht_2_2025/exports/sample_gemeenten_10.pdf\n"
        }
       ]
      }
     },
     "7c8fb3ee62774d2e82fac48a9276091a": {
      "model_module": "@jupyter-widgets/base",
      "model_module_version": "2.0.0",
      "model_name": "LayoutModel",
      "state": {}
     },
     "83e159e31b8841c3a8d382ad944b2e18": {
      "model_module": "@jupyter-widgets/controls",
      "model_module_version": "2.0.0",
      "model_name": "ButtonModel",
      "state": {
       "description": "Export sample",
       "layout": "IPY_MODEL_8ad47add19674ec0ab9bb1e0c0555a39",
       "style": "IPY_MODEL_902bc820ef5d41398535e0a14f7ff6ad",
       "tooltip": null
      }
     },
     "892f83901ef4457c867266e2fff28381": {
      "model_module": "@jupyter-widgets/controls",
      "model_module_version": "2.0.0",
      "model_name": "HTMLModel",
      "state": {
       "layout": "IPY_MODEL_c4c53424ef984da8bad4ad93da73fc46",
       "style": "IPY_MODEL_f0b8b092ece24c138a5943221c2634c6",
       "value": "<br>"
      }
     },
     "8ad47add19674ec0ab9bb1e0c0555a39": {
      "model_module": "@jupyter-widgets/base",
      "model_module_version": "2.0.0",
      "model_name": "LayoutModel",
      "state": {
       "width": "140px"
      }
     },
     "8b1c6896cd2d469a90e21fa89bb4f59d": {
      "model_module": "@jupyter-widgets/controls",
      "model_module_version": "2.0.0",
      "model_name": "VBoxModel",
      "state": {
       "children": [
        "IPY_MODEL_d25326a3be934444bd7011416f4094be",
        "IPY_MODEL_bf92db65baf14e28bcc6718dca667def",
        "IPY_MODEL_d7245aa071c54cb68bdfe8e405f6647b",
        "IPY_MODEL_de467600d6eb4152bda65557eb81850d",
        "IPY_MODEL_5b73e8427e334e8bb72f3ccf167ba6f9",
        "IPY_MODEL_892f83901ef4457c867266e2fff28381",
        "IPY_MODEL_bc5027370d3d4f959a89890346689e42"
       ],
       "layout": "IPY_MODEL_8e9277d0379d4992b01a653537964b6b"
      }
     },
     "8e9277d0379d4992b01a653537964b6b": {
      "model_module": "@jupyter-widgets/base",
      "model_module_version": "2.0.0",
      "model_name": "LayoutModel",
      "state": {}
     },
     "902bc820ef5d41398535e0a14f7ff6ad": {
      "model_module": "@jupyter-widgets/controls",
      "model_module_version": "2.0.0",
      "model_name": "ButtonStyleModel",
      "state": {
       "font_family": null,
       "font_size": null,
       "font_style": null,
       "font_variant": null,
       "font_weight": null,
       "text_color": null,
       "text_decoration": null
      }
     },
     "90cbe2febccb4cd58046150917fc278d": {
      "model_module": "@jupyter-widgets/controls",
      "model_module_version": "2.0.0",
      "model_name": "HTMLModel",
      "state": {
       "layout": "IPY_MODEL_1172762a6b694bb4b77fa43ed669df8b",
       "style": "IPY_MODEL_3f3fa35b491b4403bc69a821ae7087bb",
       "value": "<br>"
      }
     },
     "927008fd0f3b40d9acbe6ac5d0d975e8": {
      "model_module": "@jupyter-widgets/output",
      "model_module_version": "1.0.0",
      "model_name": "OutputModel",
      "state": {
       "layout": "IPY_MODEL_9b84e566235342b781932c196edd9faa",
       "outputs": [
        {
         "data": {
          "image/png": "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",
          "text/plain": "<Figure size 600x600 with 1 Axes>"
         },
         "metadata": {},
         "output_type": "display_data"
        }
       ]
      }
     },
     "9b84e566235342b781932c196edd9faa": {
      "model_module": "@jupyter-widgets/base",
      "model_module_version": "2.0.0",
      "model_name": "LayoutModel",
      "state": {
       "justify_content": "center"
      }
     },
     "9ba056661c634ce5929007a3c86d93b0": {
      "model_module": "@jupyter-widgets/controls",
      "model_module_version": "2.0.0",
      "model_name": "HTMLModel",
      "state": {
       "layout": "IPY_MODEL_32779757dfa34b18a311f9a99350f121",
       "style": "IPY_MODEL_d3c98dba971a4c05b9f2a08ceec823f1",
       "value": "\n        <div style=\"text-align:left;\">\n            <b>GPKG-bestand:</b> wijkenbuurten_2024_v1.gpkg<br>\n            <b>Layer:</b> gemeenten<br>\n            <b>Sample:</b> 10%\n        </div>\n        "
      }
     },
     "a3bd58c748ec4cf6be24c6a9facc34c4": {
      "model_module": "@jupyter-widgets/controls",
      "model_module_version": "2.0.0",
      "model_name": "DropdownModel",
      "state": {
       "_options_labels": [
        "wijkenbuurten_2024_v1.gpkg"
       ],
       "description": "GPKG:",
       "index": 0,
       "layout": "IPY_MODEL_6dcf1e90cb8f4704a7cceae14720af73",
       "style": "IPY_MODEL_afc27ccb1cf943179d7f28cef9348c95"
      }
     },
     "a5bf3c6d81de49478bab67d1da12d765": {
      "model_module": "@jupyter-widgets/base",
      "model_module_version": "2.0.0",
      "model_name": "LayoutModel",
      "state": {}
     },
     "a6f1fb1e10a744d5a133dced9f67f1d2": {
      "model_module": "@jupyter-widgets/base",
      "model_module_version": "2.0.0",
      "model_name": "LayoutModel",
      "state": {}
     },
     "af105f976fa14c22bcdcd4ed7179bec8": {
      "model_module": "@jupyter-widgets/controls",
      "model_module_version": "2.0.0",
      "model_name": "DropdownModel",
      "state": {
       "_options_labels": [
        "10%",
        "25%",
        "50%",
        "100%"
       ],
       "description": "Label",
       "index": 0,
       "layout": "IPY_MODEL_653ffb9ae3524c05bfb704298809de34",
       "style": "IPY_MODEL_4993de38c53f4dd996ad57d03ce7b175"
      }
     },
     "afc27ccb1cf943179d7f28cef9348c95": {
      "model_module": "@jupyter-widgets/controls",
      "model_module_version": "2.0.0",
      "model_name": "DescriptionStyleModel",
      "state": {
       "description_width": ""
      }
     },
     "b32a68dc499243e18e5f253ae7e88eee": {
      "model_module": "@jupyter-widgets/base",
      "model_module_version": "2.0.0",
      "model_name": "LayoutModel",
      "state": {}
     },
     "bc5027370d3d4f959a89890346689e42": {
      "model_module": "@jupyter-widgets/output",
      "model_module_version": "1.0.0",
      "model_name": "OutputModel",
      "state": {
       "layout": "IPY_MODEL_532758b93c7a405180b00ba66b00559f",
       "outputs": [
        {
         "name": "stdout",
         "output_type": "stream",
         "text": "🧾 Sample preview:\n"
        },
        {
         "data": {
          "text/html": "<div>\n<style scoped>\n    .dataframe tbody tr th:only-of-type {\n        vertical-align: middle;\n    }\n\n    .dataframe tbody tr th {\n        vertical-align: top;\n    }\n\n    .dataframe thead th {\n        text-align: right;\n    }\n</style>\n<table border=\"1\" class=\"dataframe\">\n  <thead>\n    <tr style=\"text-align: right;\">\n      <th></th>\n      <th>gemeentecode</th>\n      <th>gemeentenaam</th>\n      <th>indelingswijziging_wijken_en_buurten</th>\n      <th>water</th>\n      <th>omgevingsadressendichtheid</th>\n      <th>stedelijkheid_adressen_per_km2</th>\n      <th>bevolkingsdichtheid_inwoners_per_km2</th>\n      <th>aantal_inwoners</th>\n      <th>mannen</th>\n      <th>vrouwen</th>\n      <th>...</th>\n      <th>afstand_tot_open_nat_natuurlijk_terrein</th>\n      <th>afstand_tot_semiopenbaar_groen_totaal</th>\n      <th>afstand_tot_sportterrein</th>\n      <th>afstand_tot_volkstuin</th>\n      <th>afstand_tot_verblijfsrecreatief_terrein</th>\n      <th>afstand_tot_recreatief_binnenwater</th>\n      <th>afstand_tot_begraafplaats</th>\n      <th>jrstatcode</th>\n      <th>jaar</th>\n      <th>geometry</th>\n    </tr>\n  </thead>\n  <tbody>\n    <tr>\n      <th>0</th>\n      <td>GM0327</td>\n      <td>Leusden</td>\n      <td>1</td>\n      <td>NEE</td>\n      <td>1298</td>\n      <td>3</td>\n      <td>541</td>\n      <td>31681</td>\n      <td>15519</td>\n      <td>16162</td>\n      <td>...</td>\n      <td>-99995.0</td>\n      <td>-99995.0</td>\n      <td>-99995.0</td>\n      <td>-99995.0</td>\n      <td>-99995.0</td>\n      <td>-99995.0</td>\n      <td>-99995.0</td>\n      <td>2024GM0327</td>\n      <td>2024</td>\n      <td>MULTIPOLYGON (((1.59e+05 4.64e+05, 1.59e+05 4....</td>\n    </tr>\n    <tr>\n      <th>1</th>\n      <td>GM1969</td>\n      <td>Westerkwartier</td>\n      <td>-99997</td>\n      <td>JA</td>\n      <td>-99997</td>\n      <td>-99997</td>\n      <td>-99997</td>\n      <td>-99997</td>\n      <td>-99997</td>\n      <td>-99997</td>\n      <td>...</td>\n      <td>-99995.0</td>\n      <td>-99995.0</td>\n      <td>-99995.0</td>\n      <td>-99995.0</td>\n      <td>-99995.0</td>\n      <td>-99995.0</td>\n      <td>-99995.0</td>\n      <td>2024GM1969</td>\n      <td>2024</td>\n      <td>MULTIPOLYGON (((2.15e+05 5.95e+05, 2.15e+05 5....</td>\n    </tr>\n    <tr>\n      <th>2</th>\n      <td>GM0189</td>\n      <td>Wierden</td>\n      <td>1</td>\n      <td>NEE</td>\n      <td>711</td>\n      <td>4</td>\n      <td>264</td>\n      <td>24931</td>\n      <td>12485</td>\n      <td>12446</td>\n      <td>...</td>\n      <td>-99995.0</td>\n      <td>-99995.0</td>\n      <td>-99995.0</td>\n      <td>-99995.0</td>\n      <td>-99995.0</td>\n      <td>-99995.0</td>\n      <td>-99995.0</td>\n      <td>2024GM0189</td>\n      <td>2024</td>\n      <td>MULTIPOLYGON (((2.37e+05 4.89e+05, 2.37e+05 4....</td>\n    </tr>\n  </tbody>\n</table>\n<p>3 rows × 219 columns</p>\n</div>",
          "text/plain": "  gemeentecode    gemeentenaam  indelingswijziging_wijken_en_buurten water  \\\n0       GM0327         Leusden                                     1   NEE   \n1       GM1969  Westerkwartier                                -99997    JA   \n2       GM0189         Wierden                                     1   NEE   \n\n   omgevingsadressendichtheid  stedelijkheid_adressen_per_km2  \\\n0                        1298                               3   \n1                      -99997                          -99997   \n2                         711                               4   \n\n   bevolkingsdichtheid_inwoners_per_km2  aantal_inwoners  mannen  vrouwen  \\\n0                                   541            31681   15519    16162   \n1                                -99997           -99997  -99997   -99997   \n2                                   264            24931   12485    12446   \n\n   ...  afstand_tot_open_nat_natuurlijk_terrein  \\\n0  ...                                 -99995.0   \n1  ...                                 -99995.0   \n2  ...                                 -99995.0   \n\n   afstand_tot_semiopenbaar_groen_totaal  afstand_tot_sportterrein  \\\n0                               -99995.0                  -99995.0   \n1                               -99995.0                  -99995.0   \n2                               -99995.0                  -99995.0   \n\n   afstand_tot_volkstuin  afstand_tot_verblijfsrecreatief_terrein  \\\n0               -99995.0                                 -99995.0   \n1               -99995.0                                 -99995.0   \n2               -99995.0                                 -99995.0   \n\n   afstand_tot_recreatief_binnenwater  afstand_tot_begraafplaats  jrstatcode  \\\n0                            -99995.0                   -99995.0  2024GM0327   \n1                            -99995.0                   -99995.0  2024GM1969   \n2                            -99995.0                   -99995.0  2024GM0189   \n\n   jaar                                           geometry  \n0  2024  MULTIPOLYGON (((1.59e+05 4.64e+05, 1.59e+05 4....  \n1  2024  MULTIPOLYGON (((2.15e+05 5.95e+05, 2.15e+05 5....  \n2  2024  MULTIPOLYGON (((2.37e+05 4.89e+05, 2.37e+05 4....  \n\n[3 rows x 219 columns]"
         },
         "metadata": {},
         "output_type": "display_data"
        },
        {
         "name": "stdout",
         "output_type": "stream",
         "text": "Shape: 42 rows × 219 columns\n"
        }
       ]
      }
     },
     "bd4c1b97ebf940a6a109952a662bb946": {
      "model_module": "@jupyter-widgets/controls",
      "model_module_version": "2.0.0",
      "model_name": "HTMLStyleModel",
      "state": {
       "description_width": "",
       "font_size": null,
       "text_color": null
      }
     },
     "bf92db65baf14e28bcc6718dca667def": {
      "model_module": "@jupyter-widgets/controls",
      "model_module_version": "2.0.0",
      "model_name": "HTMLModel",
      "state": {
       "layout": "IPY_MODEL_b32a68dc499243e18e5f253ae7e88eee",
       "style": "IPY_MODEL_20eb7da68d5743a3a5fb9c1017ed9828",
       "value": "<h3 style='text-align:center;'>GPKG Sample generator</h3>"
      }
     },
     "c4c53424ef984da8bad4ad93da73fc46": {
      "model_module": "@jupyter-widgets/base",
      "model_module_version": "2.0.0",
      "model_name": "LayoutModel",
      "state": {}
     },
     "d25326a3be934444bd7011416f4094be": {
      "model_module": "@jupyter-widgets/controls",
      "model_module_version": "2.0.0",
      "model_name": "HTMLModel",
      "state": {
       "layout": "IPY_MODEL_290d6fd9dc94467397af9ab969e26381",
       "style": "IPY_MODEL_bd4c1b97ebf940a6a109952a662bb946",
       "value": "<br>"
      }
     },
     "d3c98dba971a4c05b9f2a08ceec823f1": {
      "model_module": "@jupyter-widgets/controls",
      "model_module_version": "2.0.0",
      "model_name": "HTMLStyleModel",
      "state": {
       "description_width": "",
       "font_size": null,
       "text_color": null
      }
     },
     "d7245aa071c54cb68bdfe8e405f6647b": {
      "model_module": "@jupyter-widgets/controls",
      "model_module_version": "2.0.0",
      "model_name": "VBoxModel",
      "state": {
       "children": [
        "IPY_MODEL_a3bd58c748ec4cf6be24c6a9facc34c4",
        "IPY_MODEL_6a99d05293d241b88cf82db2b8066f98",
        "IPY_MODEL_447bd913977d4647b44426c9257f7d0c",
        "IPY_MODEL_90cbe2febccb4cd58046150917fc278d",
        "IPY_MODEL_766c53f10670487ba3c9fabc70b24868"
       ],
       "layout": "IPY_MODEL_de9c1c91bcc74f3c846e4cfdcaf4449b"
      }
     },
     "de467600d6eb4152bda65557eb81850d": {
      "model_module": "@jupyter-widgets/controls",
      "model_module_version": "2.0.0",
      "model_name": "HTMLModel",
      "state": {
       "layout": "IPY_MODEL_0774d2ef3a554a7a8a07f9805a0bd089",
       "style": "IPY_MODEL_4de860c9cf4546259d7a41a0b7e945e2",
       "value": "<br>"
      }
     },
     "de9c1c91bcc74f3c846e4cfdcaf4449b": {
      "model_module": "@jupyter-widgets/base",
      "model_module_version": "2.0.0",
      "model_name": "LayoutModel",
      "state": {}
     },
     "f074b47aa74246499eac3c4b6e303a5b": {
      "model_module": "@jupyter-widgets/controls",
      "model_module_version": "2.0.0",
      "model_name": "DropdownModel",
      "state": {
       "_options_labels": [
        ".gpkg",
        ".geojson",
        ".pdf"
       ],
       "description": "Export:",
       "index": 2,
       "layout": "IPY_MODEL_24d88cded7a74f58b151479f9d95ce43",
       "style": "IPY_MODEL_4cb9fad2991d44969025ada8ec51b285"
      }
     },
     "f0b4a16fde954bcf9420edc4da5be04e": {
      "model_module": "@jupyter-widgets/controls",
      "model_module_version": "2.0.0",
      "model_name": "DescriptionStyleModel",
      "state": {
       "description_width": ""
      }
     },
     "f0b8b092ece24c138a5943221c2634c6": {
      "model_module": "@jupyter-widgets/controls",
      "model_module_version": "2.0.0",
      "model_name": "HTMLStyleModel",
      "state": {
       "description_width": "",
       "font_size": null,
       "text_color": null
      }
     },
     "fb2a8b247c2e4cfaa2ab7cba72902025": {
      "model_module": "@jupyter-widgets/base",
      "model_module_version": "2.0.0",
      "model_name": "LayoutModel",
      "state": {
       "width": "320px"
      }
     }
    },
    "version_major": 2,
    "version_minor": 0
   }
  }
 },
 "nbformat": 4,
 "nbformat_minor": 5
}
